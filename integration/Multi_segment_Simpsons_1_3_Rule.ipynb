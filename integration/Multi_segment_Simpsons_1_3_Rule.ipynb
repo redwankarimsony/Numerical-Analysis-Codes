{
  "nbformat": 4,
  "nbformat_minor": 0,
  "metadata": {
    "colab": {
      "name": "Multi-segment Simpsons 1/3 Rule.ipynb",
      "provenance": [],
      "collapsed_sections": []
    },
    "kernelspec": {
      "display_name": "Python 3",
      "name": "python3"
    }
  },
  "cells": [
    {
      "cell_type": "markdown",
      "metadata": {
        "id": "KSMVgSJnwhLx"
      },
      "source": [
        "## Task 01: \n",
        "Use the Multi Segment Simpsons 1/3 rule for finding Integral of the following function within the closed interval of $[0,1]$ and Plot the Relative Absolute Error for the different number of segments. The the integrad is as follows: \n",
        "$$ f(x) = 15\\sqrt{x^{3}} + 8\\sqrt[\\leftroot{-1}\\uproot{2}\\scriptstyle 3]{x^{2}} + x $$\n"
      ]
    },
    {
      "cell_type": "code",
      "metadata": {
        "id": "3WWZ69LpwT9d"
      },
      "source": [
        "from sympy import sympify, symbols, integrate\n",
        "import numpy as np\n",
        "import seaborn as sns\n",
        "import matplotlib.pyplot as plt\n",
        "%matplotlib inline\n",
        " \n",
        "\n",
        "x = symbols('x')\n",
        "# original simpsons 1/3 method\n",
        "def simpsons_one_third(f= None, a = 0, b = 0):\n",
        "    h = (b-a)/2. \n",
        "    return h/3.*(f.subs(x,a)+ 4*f.subs(x, (a+b)/2.) + f.subs(x, b))\n",
        "\n",
        "# multisegment simpsons 1/3 method\n",
        "def multi_segment_simpsons_one_third(f, a=0, b=0, n=0, verbose = False):\n",
        "    x_vals = np.linspace(start=0, stop = 1, num = n+1)\n",
        "    result = 0\n",
        "    for i in range(0, len(x_vals)-2, 2):\n",
        "        [a, _, b] = x_vals[i: i+3]\n",
        "        if verbose:\n",
        "            print([a, b], '-->',  simpsons_one_third(f, a, b))\n",
        "        result += simpsons_one_third(f, a, b)\n",
        "    return result "
      ],
      "execution_count": 132,
      "outputs": []
    },
    {
      "cell_type": "markdown",
      "metadata": {
        "id": "ajD9Pf48l1W3"
      },
      "source": [
        "# Input Parameters"
      ]
    },
    {
      "cell_type": "code",
      "metadata": {
        "colab": {
          "base_uri": "https://localhost:8080/"
        },
        "id": "7cX7sSZw1_YR",
        "outputId": "46a3d54d-a41d-4e5c-ad74-038afe7d544b"
      },
      "source": [
        "# Testing Stub\n",
        "f = '15 * (x^(1.5)) + 8*  (x ^(0.6666667)) + x'\n",
        "[a,b] = [0,1] \n",
        "f = sympify(f)\n",
        "print(f'Given Integrad: {f}')\n",
        "integral_f = integrate(f, x)\n",
        "print(f'Original Integration: {integral_f}')\n",
        "original_value = integral_f.subs(x, 1)- integral_f.subs(x, 0)\n",
        "print('Original Result:', original_value) \n",
        "print(f'Numerical Prediction: {multi_segment_simpsons_one_third(f, a= 0, b = 1, n= 16, verbose = False)}')\n"
      ],
      "execution_count": 136,
      "outputs": [
        {
          "output_type": "stream",
          "text": [
            "Given Integrad: 8*x**0.6666667 + x + 15*x**1.5\n",
            "Original Integration: x**2/2 + 4.799999904*x**1.6666667 + 6.0*x**2.5\n",
            "Original Result: 11.2999999040000\n",
            "Numerical Prediction: 11.2968442286354\n"
          ],
          "name": "stdout"
        }
      ]
    },
    {
      "cell_type": "markdown",
      "metadata": {
        "id": "1clzp72lnXgf"
      },
      "source": [
        "# Error Calculation:"
      ]
    },
    {
      "cell_type": "code",
      "metadata": {
        "id": "HRPdThh1AV8X"
      },
      "source": [
        "errors = []\n",
        "n_value = []\n",
        "for i in range(2, 35, 2):\n",
        "    errors.append((original_value - multi_segment_simpsons_one_third(f, a= 0, b = 1, n= i, verbose = False))/original_value*100)\n",
        "    n_value.append(i)"
      ],
      "execution_count": 145,
      "outputs": []
    },
    {
      "cell_type": "markdown",
      "metadata": {
        "id": "ARTl-Bh0KOA4"
      },
      "source": [
        "# Error Plotting"
      ]
    },
    {
      "cell_type": "code",
      "metadata": {
        "colab": {
          "base_uri": "https://localhost:8080/",
          "height": 295
        },
        "id": "Ezh3loShA3IM",
        "outputId": "e86b0671-8cfd-472c-da89-2b2d3e01675a"
      },
      "source": [
        "plt.Figure(figsize=(12, 8), facecolor='black', linewidth=2)\n",
        "# plt.plot(n_value, errors, 'r-*', markercolor = 'b')\n",
        "plt.plot(n_value, errors, color='red', linestyle='dashed', marker='*', markerfacecolor='blue', markersize=10)\n",
        "plt.grid(axis = 'both')\n",
        "plt.xlabel('Intercepts: (n)')\n",
        "plt.ylabel('Relative Approximate Error')\n",
        "plt.title('Error Analysis of Simpsons Methods')\n",
        "plt.show()"
      ],
      "execution_count": 146,
      "outputs": [
        {
          "output_type": "display_data",
          "data": {
            "image/png": "[encoded data removed]",
            "text/plain": [
              "<Figure size 432x288 with 1 Axes>"
            ]
          },
          "metadata": {
            "tags": [],
            "needs_background": "light"
          }
        }
      ]
    },
    {
      "cell_type": "code",
      "metadata": {
        "colab": {
          "base_uri": "https://localhost:8080/"
        },
        "id": "RWgF35T2pM0Q",
        "outputId": "ae6cac91-1be9-48e2-f99e-53dda1d50093"
      },
      "source": [
        "errors"
      ],
      "execution_count": 147,
      "outputs": [
        {
          "output_type": "execute_result",
          "data": {
            "text/plain": [
              "[0.631356429923222,\n",
              " 0.242079815374769,\n",
              " 0.131485444690829,\n",
              " 0.0841631166271685,\n",
              " 0.0592202126341196,\n",
              " 0.0443124838602093,\n",
              " 0.0346201040162793,\n",
              " 0.0279263308977675,\n",
              " 0.0230884774211774,\n",
              " 0.0194657132842174,\n",
              " 0.0166745323466701,\n",
              " 0.0144732534497745,\n",
              " 0.0127030200814466,\n",
              " 0.0112556958109276,\n",
              " 0.0100554608004628,\n",
              " 0.00904779074371625,\n",
              " 0.00819260630039831]"
            ]
          },
          "metadata": {
            "tags": []
          },
          "execution_count": 147
        }
      ]
    },
    {
      "cell_type": "code",
      "metadata": {
        "id": "kIpVQLXYpPiQ"
      },
      "source": [
        ""
      ],
      "execution_count": null,
      "outputs": []
    }
  ]
}