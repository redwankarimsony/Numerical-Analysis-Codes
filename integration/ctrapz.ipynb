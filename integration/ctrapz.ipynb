{
 "cells": [
  {
   "cell_type": "markdown",
   "metadata": {},
   "source": [
    "# Composite corrected Trapezoid rule"
   ]
  },
  {
   "cell_type": "code",
   "execution_count": 1,
   "metadata": {},
   "outputs": [],
   "source": [
    "import numpy as np\n",
    "\n",
    "# n = number of intervals\n",
    "# There are n+1 points\n",
    "def trapz(a,b,n,f,df):\n",
    "    h = (b-a)/n\n",
    "    x = np.linspace(a,b,n+1)\n",
    "    y = f(x)\n",
    "    res = np.sum(y[1:n]) + 0.5*(y[0] + y[n])\n",
    "    return h*res, h*res - (h**2/12)*(df(b) - df(a))"
   ]
  },
  {
   "cell_type": "markdown",
   "metadata": {},
   "source": [
    "## Example\n",
    "$$\n",
    "f(x) = \\exp(x)\\cos(x), \\qquad x \\in [0,\\pi]\n",
    "$$\n",
    "The exact integral is $-\\frac{1}{2}(1+\\exp(\\pi))$."
   ]
  },
  {
   "cell_type": "code",
   "execution_count": 2,
   "metadata": {},
   "outputs": [
    {
     "name": "stdout",
     "output_type": "stream",
     "text": [
      "     4    -1.26567653098185e+00    0.00000    -2.47437900765224e-02    0.00000\n",
      "     8    -3.11816113365945e-01    4.05905    -1.58292813961225e-03   15.63166\n",
      "    16    -7.76577835071954e-02    4.01526    -9.94872006128134e-05   15.91087\n",
      "    32    -1.93958006245669e-02    4.00385    -6.22654792081789e-06   15.97791\n",
      "    64    -4.84778281250620e-03    4.00096    -3.89293344227326e-07   15.99449\n",
      "   128    -1.21187271271594e-03    4.00024    -2.43329250082525e-08   15.99863\n",
      "   256    -3.02963615787633e-04    4.00006    -1.52084034255040e-09   15.99966\n",
      "   512    -7.57406187865683e-05    4.00002    -9.50493017626286e-11   16.00054\n",
      "  1024    -1.89351368735657e-05    4.00000    -5.94013727095444e-12   16.00120\n",
      "  2048    -4.73378310594796e-06    4.00000    -3.73034936274053e-13   15.92381\n"
     ]
    }
   ],
   "source": [
    "f  = lambda x: np.exp(x)*np.cos(x)\n",
    "df = lambda x: np.exp(x)*(np.cos(x) - np.sin(x))\n",
    "qe = -0.5*(1.0 + np.exp(np.pi)) # Exact integral\n",
    "\n",
    "n,N = 4,10\n",
    "e1,e2 = np.zeros(N),np.zeros(N)\n",
    "for i in range(N):\n",
    "    e1[i],e2[i] = trapz(0.0,np.pi,n,f,df) - qe\n",
    "    if i > 0:\n",
    "        print('%6d %24.14e %10.5f %24.14e %10.5f'%(n,e1[i],e1[i-1]/e1[i],e2[i],e2[i-1]/e2[i]))\n",
    "    else:\n",
    "        print('%6d %24.14e %10.5f %24.14e %10.5f'%(n,e1[i],0,e2[i],0))\n",
    "    n = 2*n"
   ]
  }
 ],
 "metadata": {
  "kernelspec": {
   "display_name": "Python 3",
   "language": "python",
   "name": "python3"
  },
  "language_info": {
   "codemirror_mode": {
    "name": "ipython",
    "version": 3
   },
   "file_extension": ".py",
   "mimetype": "text/x-python",
   "name": "python",
   "nbconvert_exporter": "python",
   "pygments_lexer": "ipython3",
   "version": "3.6.6"
  }
 },
 "nbformat": 4,
 "nbformat_minor": 2
}
